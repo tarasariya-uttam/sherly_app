{
 "cells": [
  {
   "cell_type": "code",
   "execution_count": 2,
   "id": "81dfe50d-60da-43da-824d-bbba717826cb",
   "metadata": {},
   "outputs": [],
   "source": [
    "import cv2\n",
    "import numpy as np\n",
    "from object_detection import ObjectDetection\n",
    "from deep_sort.deep_sort import Deep\n",
    "import torch\n"
   ]
  },
  {
   "cell_type": "code",
   "execution_count": 3,
   "id": "2623e4d2-d2b5-4108-a08d-6d5e8ac6709c",
   "metadata": {},
   "outputs": [],
   "source": [
    "def detect(model, frame):\n",
    "  '''Given results from yolov5, extract classs ids, scores and boxes as numpy array'''\n",
    "\n",
    "  results = model(frame)\n",
    "  result_pandas = results.pandas().xyxy[0]\n",
    "  print(result_pandas)\n",
    "  result_list = results.xyxy[0].cpu().detach().tolist()\n",
    "  class_ids = []\n",
    "  scores = []\n",
    "  boxes = []\n",
    "\n",
    "  for i in range(len(result_list)):\n",
    "    class_ids.append(result_list[i][5])\n",
    "    scores.append(result_list[i][4])\n",
    "    boxes.append(result_list[i][0:4])\n",
    "\n",
    "  class_ids = np.asarray(class_ids, dtype=np.int32)\n",
    "  scores = np.asarray(scores, dtype=np.float64)\n",
    "  boxes = np.asarray(boxes, dtype=np.float64)\n",
    "\n",
    "  return class_ids, scores, boxes"
   ]
  },
  {
   "cell_type": "code",
   "execution_count": 4,
   "id": "afe67a54-e283-47c8-a74e-84b2fecf4c3a",
   "metadata": {},
   "outputs": [
    {
     "name": "stdout",
     "output_type": "stream",
     "text": [
      "Loading Object Detection with params:\n",
      "image_size=(832, 832)\n",
      "nmsThreshold=0.4\n",
      "confThreshold=0.3\n"
     ]
    },
    {
     "name": "stderr",
     "output_type": "stream",
     "text": [
      "Using cache found in /Users/freebox/.cache/torch/hub/ultralytics_yolov5_master\n",
      "YOLOv5 🚀 2022-6-23 Python-3.9.7 torch-1.13.0.dev20220710 MPS\n",
      "\n",
      "Fusing layers... \n",
      "YOLOv5s summary: 213 layers, 7225885 parameters, 0 gradients\n",
      "Adding AutoShape... \n"
     ]
    },
    {
     "name": "stdout",
     "output_type": "stream",
     "text": [
      "Metal device set to: Apple M1 Pro\n"
     ]
    },
    {
     "name": "stderr",
     "output_type": "stream",
     "text": [
      "2022-07-18 15:42:13.954967: I tensorflow/core/common_runtime/pluggable_device/pluggable_device_factory.cc:305] Could not identify NUMA node of platform GPU ID 0, defaulting to 0. Your kernel may not have been built with NUMA support.\n",
      "2022-07-18 15:42:13.955687: I tensorflow/core/common_runtime/pluggable_device/pluggable_device_factory.cc:271] Created TensorFlow device (/job:localhost/replica:0/task:0/device:GPU:0 with 0 MB memory) -> physical PluggableDevice (device: 0, name: METAL, pci bus id: <undefined>)\n"
     ]
    }
   ],
   "source": [
    "# Load Object Detection\n",
    "yolov4 = ObjectDetection(\"dnn_model/yolov4.weights\", \"dnn_model/yolov4.cfg\")\n",
    "yolov4.load_class_names(\"dnn_model/classes.txt\")\n",
    "yolov4.load_detection_model(image_size=832, # 416 - 1280\n",
    "                        nmsThreshold=0.4,\n",
    "                        confThreshold=0.3)\n",
    "yolov5 = torch.hub.load('ultralytics/yolov5', 'yolov5s')\n",
    "\n",
    "\n",
    "# Load Object Tracking Deep Sort\n",
    "deep = Deep(max_distance=0.7,\n",
    "            nms_max_overlap=1,\n",
    "            n_init=3,\n",
    "            max_age=15,\n",
    "            max_iou_distance=0.7)\n",
    "tracker = deep.sort_tracker()"
   ]
  },
  {
   "cell_type": "code",
   "execution_count": 5,
   "id": "a1fc89eb-bc41-4f2f-a885-32fff4d9e57d",
   "metadata": {},
   "outputs": [],
   "source": [
    "cap = cv2.VideoCapture(\"videos/city_traffic.mp4\")"
   ]
  },
  {
   "cell_type": "code",
   "execution_count": 7,
   "id": "957ffb12-a6a6-46a3-b8e8-5d926e965340",
   "metadata": {},
   "outputs": [
    {
     "name": "stderr",
     "output_type": "stream",
     "text": [
      "[ WARN:0@165.862] global /Users/runner/miniforge3/conda-bld/libopencv_1644893998420/work/modules/dnn/src/dnn.cpp (1483) setUpNet DNN module was not built with CUDA backend; switching to CPU\n"
     ]
    },
    {
     "name": "stdout",
     "output_type": "stream",
     "text": [
      "\n",
      "systemMemory: 16.00 GB\n",
      "maxCacheSize: 5.33 GB\n",
      "\n",
      "class_ids>>>>>>>>>>>>>> [0 0 0 0 0 0 0 0 0 0 0 0 0 0 0 2 2 2 2 2 2 2 2 2 2 2 2 2 2 2 9 9 9 9 9 9 9 9]\n",
      "<class 'numpy.ndarray'>\n",
      "(38,)\n",
      "scores>>>>>>>>>>>>>> [    0.90133     0.77655     0.71734     0.70119     0.69992     0.67268     0.65925     0.65782     0.64159     0.62191     0.57465     0.48482     0.40241     0.37371     0.33027     0.99181     0.98656     0.98567     0.97104      0.9508     0.94437     0.93179     0.84599     0.82665     0.61489     0.60572\n",
      "     0.59809     0.57404     0.51404      0.4943     0.73316     0.61462     0.52944     0.49558     0.47663     0.43839     0.36959     0.32532]\n",
      "(38,)\n",
      "boxes>>>>>>>>>>>>>> [[ 764  422    8   16]\n",
      " [ 315  560   16   21]\n",
      " [ 230  568   11   23]\n",
      " [ 543  587   10   20]\n",
      " [ 286  474   11   19]\n",
      " [ 569  572   11   24]\n",
      " [ 785  420    8   20]\n",
      " [ 349  569   12   23]\n",
      " [ 434  587   11   22]\n",
      " [ 744  427    8   16]\n",
      " [ 677  626   12   25]\n",
      " [ 494  570   11   19]\n",
      " [ 661  629   10   22]\n",
      " [ 291  572   11   14]\n",
      " [ 456  615   16   22]\n",
      " [ 915  661   87   48]\n",
      " [ 799  462   64   25]\n",
      " [1094  648   80   40]\n",
      " [ 989  613   82   38]\n",
      " [ 837  427   57   21]\n",
      " [ 475  668   81   51]\n",
      " [ 624  556   87   37]\n",
      " [ 518  686   76   34]\n",
      " [1157  634  103   42]\n",
      " [ 860  440   55   20]\n",
      " [1087  579   81   36]\n",
      " [1055  597   91   42]\n",
      " [ 318  411   47   23]\n",
      " [1171  615   95   36]\n",
      " [ 356  397   37   21]\n",
      " [ 715  595    8   19]\n",
      " [ 349  470    9   19]\n",
      " [ 869  553   14   18]\n",
      " [ 361  534   11   15]\n",
      " [ 374  532   11   16]\n",
      " [ 915  507   11   15]\n",
      " [ 356  470    9   18]\n",
      " [ 727  596   13   19]]\n",
      "(38, 4)\n"
     ]
    },
    {
     "name": "stderr",
     "output_type": "stream",
     "text": [
      "2022-07-18 15:44:19.051800: W tensorflow/core/platform/profile_utils/cpu_utils.cc:128] Failed to get CPU frequency: 0 Hz\n",
      "2022-07-18 15:44:19.052865: I tensorflow/core/grappler/optimizers/custom_graph_optimizer_registry.cc:112] Plugin optimizer for device_type GPU is enabled.\n"
     ]
    }
   ],
   "source": [
    "while True:\n",
    "    ret, frame = cap.read()\n",
    "    if not ret:\n",
    "        break\n",
    "\n",
    "    \"\"\" 1. Object Detection per frame\"\"\"\n",
    "    # Question : Insert new model but will give error because its running on mps (need nvidia gpu)\n",
    "    # >>>>>>>>>>>>>>>>>>>>>>>>>> yoloV5 >>>>>>>>>>>>>>>>>>\n",
    "    # (class_ids, scores, boxes) = detect(yolov5, frame)\n",
    "    # <<<<<<<<<<<<<<<<<<<<<<<<<<<<<<<<<<<<<<<<<<<<<<<<<<<<\n",
    "    \n",
    "    (class_ids, scores, boxes) = yolov4.detect(frame)\n",
    "    print(\"class_ids>>>>>>>>>>>>>>\", class_ids)\n",
    "    print(type(class_ids))\n",
    "    print(class_ids.shape)\n",
    "    print(\"scores>>>>>>>>>>>>>>\", scores)\n",
    "    print(scores.shape)\n",
    "    print(\"boxes>>>>>>>>>>>>>>\", boxes)\n",
    "    print(boxes.shape)\n",
    "    \n",
    "    \"\"\" 2. Object Tracking \"\"\"\n",
    "    features = deep.encoder(frame, boxes)\n",
    "    detections = deep.Detection(boxes, scores, class_ids, features)\n",
    "\n",
    "    tracker.predict()\n",
    "    (class_ids, object_ids, boxes) = tracker.update(detections)\n",
    "\n",
    "    for class_id, object_id, box in zip(class_ids, object_ids, boxes):\n",
    "\n",
    "        (x, y, x2, y2) = box\n",
    "        class_name = yolov4.classes[class_id]\n",
    "        color = yolov4.colors[class_id]\n",
    "\n",
    "\n",
    "        cv2.rectangle(frame, (x, y), (x2, y2), color, 2)\n",
    "        cv2.rectangle(frame, (x, y), (x + len(class_name) * 20, y - 30), color, -1)\n",
    "        cv2.putText(frame, class_name + \" \" + str(object_id), (x, y - 10), 0, 0.75, (255, 255, 255), 2)\n",
    "\n",
    "    # cv2.imshow(\"Frame\", frame)\n",
    "\n",
    "    # key = cv2.waitKey(1)\n",
    "    # if key == 27:\n",
    "    #     break\n",
    "    break\n",
    "\n",
    "cap.release()\n",
    "cv2.destroyAllWindows()"
   ]
  },
  {
   "cell_type": "code",
   "execution_count": null,
   "id": "bfdf667e-8829-4bef-b926-69cf29ea36b4",
   "metadata": {},
   "outputs": [],
   "source": []
  }
 ],
 "metadata": {
  "kernelspec": {
   "display_name": "Python [conda env:root] *",
   "language": "python",
   "name": "conda-root-py"
  },
  "language_info": {
   "codemirror_mode": {
    "name": "ipython",
    "version": 3
   },
   "file_extension": ".py",
   "mimetype": "text/x-python",
   "name": "python",
   "nbconvert_exporter": "python",
   "pygments_lexer": "ipython3",
   "version": "3.9.7"
  }
 },
 "nbformat": 4,
 "nbformat_minor": 5
}
